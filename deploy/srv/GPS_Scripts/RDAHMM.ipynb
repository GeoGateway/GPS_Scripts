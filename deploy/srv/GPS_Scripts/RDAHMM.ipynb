{
 "cells": [
  {
   "cell_type": "markdown",
   "metadata": {},
   "source": [
    "# Download the data"
   ]
  },
  {
   "cell_type": "code",
   "execution_count": 13,
   "metadata": {
    "collapsed": false
   },
   "outputs": [],
   "source": [
    "%%bash\n",
    "# wget --user=anonymous --password='yuma@indiana.edu' -r -nH --cut-dirs=4 --no-parent --reject \"index.html*\" http://garner.ucsd.edu/pub/timeseries/measures/ats/WesternNorthAmerica/"
   ]
  },
  {
   "cell_type": "markdown",
   "metadata": {},
   "source": [
    "All paths as in properties.py but with changed UNIX style paths for the code to execute across platforms"
   ]
  },
  {
   "cell_type": "code",
   "execution_count": 1,
   "metadata": {
    "collapsed": false
   },
   "outputs": [],
   "source": [
    "import os \n",
    "V={}\n",
    "WORK_DIR = '/media/hru/Data/_Active_Projects/PythonRDAHMM/test'\n",
    "V['cron_path']=os.path.join(WORK_DIR, \"RDAHMM\",\"CRON_Download/\")  \n",
    "V['download_path']=os.path.join(WORK_DIR,\"RDAHMM\",\"Download/\")  \n",
    "V['script_path']=os.path.join(WORK_DIR,\"PythonRDAHMM/\") \n",
    "V['data_path']=os.path.join(WORK_DIR,\"RDAHMM\",\"Data/\")\n",
    "# temp_path is the temporary working directory for ingesting raw data\n",
    "V['temp_path']=os.path.join(WORK_DIR,\"RDAHMM\",\"TEMP/\")\n",
    "V['model_path']=os.path.join(WORK_DIR,\"RDAHMM\",\"Model/\")\n",
    "V['eval_path']=os.path.join(WORK_DIR,\"daily/\")\n",
    "V['train_epoch']=\"2013-12-31\"\n",
    "V['rdahmm_bin']=os.path.join(WORK_DIR,\"RDAHMM\", \"rdahmm3\",\"bin\", \"rdahmm\")\n",
    "V['rdahmm_model_parm']=\"-data <inputFile> -T <dataCount> -D <dimensionCount> -N 5 -output_type gauss -anneal -annealfactor 1.1 -betamin 0.1 -regularize -omega 0 0 1 1.0e-6 -ntries 10 -seed 1234\"\n",
    "V['rdahmm_eval_parm']=\"-data <proBaseName>.all.input -T <dataCount> -D <dimensionCount> -N 5 -output_type gauss -A <modelBaseName>.A -B <modelBaseName>.B -pi <modelBaseName>.pi -minvalfile <modelBaseName>.minval -maxvalfile <modelBaseName>.maxval -rangefile <modelBaseName>.range -eval\"\n",
    "V['dygraphsJs']=os.path.join(WORK_DIR,\"PythonRDAHMM\",\"dygraphsJsCreator.pearl\")\n",
    "\n",
    "def properties(key):\n",
    "    return V[key]"
   ]
  },
  {
   "cell_type": "markdown",
   "metadata": {},
   "source": [
    "# Read Reno data and add it to database"
   ]
  },
  {
   "cell_type": "code",
   "execution_count": 2,
   "metadata": {
    "collapsed": false
   },
   "outputs": [
    {
     "data": {
      "text/plain": [
       "'/media/hru/Data/_Active_Projects/PythonRDAHMM/test/RDAHMM/CRON_Download/'"
      ]
     },
     "execution_count": 2,
     "metadata": {},
     "output_type": "execute_result"
    }
   ],
   "source": [
    "properties('cron_path')"
   ]
  },
  {
   "cell_type": "code",
   "execution_count": 16,
   "metadata": {
    "collapsed": false
   },
   "outputs": [],
   "source": [
    "# %run scripps_ingest_single.py /media/hru/Data/_Active_Projects/PythonRDAHMM/test/RDAHMM/Download/WesternNorthAmerica/WNAM_Clean_DetrendNeuTimeSeries_comb_20160914.tar"
   ]
  },
  {
   "cell_type": "markdown",
   "metadata": {},
   "source": [
    "Running this file generated two folders in the RAHMM folder-\n",
    "1. <a href=\"/media/hru/Data/_Active_Projects/PythonRDAHMM/test/RDAHMM/TEMPWNAM_Clean_DetrendNeuTimeSeries_comb\n",
    "\" >TEMPWNAM_Clean_DetrendNeuTimeSeries_comb </a>\n",
    "2. <a href=\"/media/hru/Data/_Active_Projects/PythonRDAHMM/test/RDAHMM/DataWNAM_Clean_DetrendNeuTimeSeries_comb\n",
    "\"> DataWNAM_Clean_DetrendNeuTimeSeries_comb: </a> Contains the SQLite database for each station\n"
   ]
  },
  {
   "cell_type": "markdown",
   "metadata": {},
   "source": [
    "gf9 already has a number of data sets and models trained on each of them. I am considering only the <b><i>rawNeuTimeSeries.MEASURES_Combination</i></b>. But these database dont have the raw files."
   ]
  },
  {
   "cell_type": "code",
   "execution_count": 2,
   "metadata": {
    "collapsed": false
   },
   "outputs": [],
   "source": [
    "import os, sys, string, re\n",
    "import sqlite3 as db\n",
    "from datetime import date\n",
    "from datetime import timedelta\n",
    "# from properties import properties"
   ]
  },
  {
   "cell_type": "code",
   "execution_count": 4,
   "metadata": {
    "collapsed": false
   },
   "outputs": [],
   "source": [
    "argv1 = \"/media/hru/Data/_Active_Projects/PythonRDAHMM/test/RDAHMM/Download/WesternNorthAmerica/WNAM_Clean_DetrendNeuTimeSeries_comb_20160914.tar\"\n",
    "[scripps_path, tarfile] = os.path.split(argv1)\n",
    "scripps_path += \"/\""
   ]
  },
  {
   "cell_type": "code",
   "execution_count": 5,
   "metadata": {
    "collapsed": false
   },
   "outputs": [],
   "source": [
    "data_path = properties('data_path')\n",
    "temp_path = properties('temp_path')"
   ]
  },
  {
   "cell_type": "code",
   "execution_count": 30,
   "metadata": {
    "collapsed": false
   },
   "outputs": [],
   "source": [
    "datadir = data_path + tarfile[:tarfile.rfind(\"_\")] + \"/\"\n",
    "#dbfile = datadir + tarfile[:-4] + \".sqlite\"\n",
    "# get rid of timestamp from db file name\n",
    "dbfile = datadir + tarfile[:-13] + \".sqlite\"\n",
    "workdir = temp_path + tarfile[:tarfile.rfind(\"_\")] + \"/\""
   ]
  },
  {
   "cell_type": "code",
   "execution_count": 31,
   "metadata": {
    "collapsed": true
   },
   "outputs": [],
   "source": [
    "if not os.path.exists(datadir):\n",
    "    cmd = \"mkdir -p \" + datadir\n",
    "    os.system(cmd) \n",
    "if not os.path.exists(workdir):\n",
    "    cmd = \"mkdir -p \" + workdir\n",
    "    os.system(cmd) "
   ]
  },
  {
   "cell_type": "code",
   "execution_count": 32,
   "metadata": {
    "collapsed": false
   },
   "outputs": [],
   "source": [
    "#if the same db file exists, drop it\n",
    "if os.path.isfile(dbfile):\n",
    "    print \"deleting old database \" + dbfile\n",
    "    os.remove(dbfile)"
   ]
  },
  {
   "cell_type": "code",
   "execution_count": 33,
   "metadata": {
    "collapsed": true
   },
   "outputs": [],
   "source": [
    "# # creating/connecting the database \n",
    "# conn = db.connect(dbfile)\n",
    "# # creating a Cursor\n",
    "# cur = conn.cursor()\n",
    "# # creating tables\n",
    "# sql =\"\"\"CREATE TABLE GPSTimeSeries (\n",
    "#       StationID CHAR(4), \n",
    "#       North Num,\n",
    "#       East Num,\n",
    "#       Up  Num,\n",
    "#       Nsig Num,\n",
    "#       Esig Num, \n",
    "#       Usig Num,\n",
    "#       Timestamp TEXT,\n",
    "#       UNIQUE (StationID, Timestamp))\"\"\"\n",
    "# cur.execute(sql)\n",
    "# sql =\"\"\"CREATE TABLE ReferencePositions (\n",
    "#       StationID CHAR(4), \n",
    "#       Latitude Num,\n",
    "#       Longitude Num, \n",
    "#       Height Num, \n",
    "#       UNIQUE (StationID))\"\"\"\n",
    "# cur.execute(sql)\n",
    "# conn.commit()"
   ]
  },
  {
   "cell_type": "code",
   "execution_count": 34,
   "metadata": {
    "collapsed": false
   },
   "outputs": [
    {
     "data": {
      "text/plain": [
       "0"
      ]
     },
     "execution_count": 34,
     "metadata": {},
     "output_type": "execute_result"
    }
   ],
   "source": [
    "# clear working directory\n",
    "cmd = \"rm -f \" + workdir + \"*\"\n",
    "os.system(cmd)"
   ]
  },
  {
   "cell_type": "code",
   "execution_count": 35,
   "metadata": {
    "collapsed": false
   },
   "outputs": [
    {
     "name": "stdout",
     "output_type": "stream",
     "text": [
      "Processing  WNAM_Clean_DetrendNeuTimeSeries_comb_20160914.tar ...\n"
     ]
    }
   ],
   "source": [
    "print \"Processing \", tarfile, \"...\" \n",
    "# unpack data \n",
    "# cmd = \"tar xvf \" + scripps_path + tarfile + \" -C \" + workdir\n",
    "# os.system(cmd)\n",
    "dirlist = os.listdir(workdir)\n",
    "dirlist.sort()"
   ]
  },
  {
   "cell_type": "code",
   "execution_count": 36,
   "metadata": {
    "collapsed": false
   },
   "outputs": [],
   "source": [
    "# i kept only 1 zip files(data for 1 station) to improve access speed\n",
    "workdir\n",
    "dirlist = os.listdir(workdir)\n",
    "dirlist.sort()"
   ]
  },
  {
   "cell_type": "code",
   "execution_count": 37,
   "metadata": {
    "collapsed": false
   },
   "outputs": [],
   "source": [
    "for datafile in dirlist:\n",
    "    if datafile[-2:] == \".Z\":\n",
    "        if os.stat(workdir+datafile).st_size == 0: # When .Z file is empty\n",
    "            continue\n",
    "        print datafile\n",
    "        cmd = \"unzip \" + workdir + datafile + \" -d \" + workdir\n",
    "        os.system(cmd)\n",
    "        datafile = datafile[:-2]\n",
    "        stationID = datafile[:4]\n",
    "        \n",
    "        print datafile\n",
    "        print stationID\n",
    "#         station_dbfile = datadir + stationID + \".sqlite\"\n",
    "#         if os.path.isfile(station_dbfile):\n",
    "#             print \"deleting old station database \" + station_dbfile\n",
    "#             os.remove(station_dbfile)\n",
    "#         station_conn = db.connect(station_dbfile)\n",
    "#         station_cur = station_conn.cursor()\n",
    "#         station_sql =\"\"\"CREATE TABLE StationGPSTimeSeries (\n",
    "#                       North Num,\n",
    "#                       East Num,\n",
    "#                       Up  Num,\n",
    "#                       Nsig Num,\n",
    "#                       Esig Num, \n",
    "#                       Usig Num,\n",
    "#                       Timestamp TEXT,\n",
    "#                       Interploated INT Default 0,\n",
    "#                       UNIQUE(Timestamp))\"\"\"\n",
    "#         station_cur.execute(station_sql)\n",
    "#         station_conn.commit()\n",
    "\n",
    "    with open(workdir + datafile, 'r') as f:\n",
    "        data = f.readlines()\n",
    "        last_line = \"\"\n",
    "        for line in data:\n",
    "            if \"Reference position\" in line:\n",
    "                refs = map(float, re.findall(\"(-?[0-9.]*[0-9]+)\", line))\n",
    "                lat = refs[0] + refs[1]/60.0 + refs[2]/3600.0\n",
    "                long = -1.0 * (refs[3] + refs[4]/60.0 + refs[5]/3600.0)\n",
    "                height = refs[6]\n",
    "#                 sql = \"INSERT INTO ReferencePositions (StationID, Latitude, Longitude, Height) \"\n",
    "#                 sql += \" VALUES ('%s', '%s', '%s', '%s')\" % (stationID, lat, long, height)\n",
    "#                 cur.execute(sql)\n",
    "#             if not \"#\" in line:\n",
    "#                 record = string.split(line)\n",
    "# \t\tif len(record) < 9: # When missing white spaces between columns\n",
    "# \t\t    tmpstr = ' '.join(record[3:])\n",
    "#                     record[3:9] = re.findall(r\"[+-]?\\d+\\.\\d\\d\", tmpstr)\n",
    "#                 [year, days] = map(int, record[1:3])\n",
    "# \t        # days is counted starting from 0\n",
    "#                 timestamp = date.fromordinal(date(year,1,1).toordinal()+days)\n",
    "#                 [north, east, up, nsig, esig, usig] = record[3:9]\n",
    "#                 sql = \"INSERT INTO GPSTimeSeries (StationID, North, East, Up, Nsig, Esig, Usig, Timestamp) \"\n",
    "#                 sql += \" VALUES ('%s', '%s', '%s', '%s', '%s', '%s', '%s', '%s')\" % (stationID, north, east, up, nsig, esig, usig, timestamp)\n",
    "#                 cur.execute(sql)\n",
    "                \n",
    "#                 if last_line == \"\":\n",
    "#                     last_line = line\n",
    "#                 else:\n",
    "#                     last_record = string.split(last_line)\n",
    "# \t\t    if len(last_record) < 9:\n",
    "# \t\t        tmpstr = ' '.join(last_record[3:])\n",
    "#                         last_record[3:9] = re.findall(r\"[+-]?\\d+\\.\\d\\d\", tmpstr)\n",
    "#                     [year, days] = map(int, last_record[1:3])\n",
    "# \t            # days is counted starting from 0\n",
    "#                     last_timestamp = date.fromordinal(date(year,1,1).toordinal()+days)\n",
    "#                     [lnorth, least, lup, lnsig, lesig, lusig] = last_record[3:9]\n",
    "#                     # if missing days from last to current, fill with last\n",
    "#                     for i in range(1, (timestamp - last_timestamp).days):\n",
    "#                         ts = last_timestamp + timedelta(days=i)\n",
    "#                         interploated = 1\n",
    "#                         station_sql = \"INSERT INTO StationGPSTimeSeries (North, East, Up, Nsig, Esig, Usig, Timestamp, Interploated) \"\n",
    "#                         station_sql += \" VALUES ('%s', '%s', '%s', '%s', '%s', '%s', '%s', '%s')\" % (lnorth, least, lup, lnsig, lesig, lusig, ts, interploated)\n",
    "#                         station_cur.execute(station_sql)\n",
    "#                     last_line = line\n",
    "\n",
    "#                 station_sql = \"INSERT INTO StationGPSTimeSeries (North, East, Up, Nsig, Esig, Usig, Timestamp) \"\n",
    "#                 station_sql += \" VALUES ('%s', '%s', '%s', '%s', '%s', '%s', '%s')\" % (north, east, up, nsig, esig, usig, timestamp)\n",
    "#                 station_cur.execute(station_sql)"
   ]
  },
  {
   "cell_type": "markdown",
   "metadata": {
    "collapsed": true
   },
   "source": [
    "# Read JPL data and add it to database"
   ]
  },
  {
   "cell_type": "markdown",
   "metadata": {},
   "source": [
    "## Download JPL data\n",
    "\n",
    "Source: ftp://sideshow.jpl.nasa.gov/pub/usrs/mbh/point/"
   ]
  },
  {
   "cell_type": "code",
   "execution_count": 3,
   "metadata": {
    "collapsed": true
   },
   "outputs": [],
   "source": [
    "from ftplib import FTP"
   ]
  },
  {
   "cell_type": "code",
   "execution_count": 4,
   "metadata": {
    "collapsed": false
   },
   "outputs": [
    {
     "data": {
      "text/plain": [
       "'/media/hru/Data/_Active_Projects/PythonRDAHMM/test\\\\RDAHMM\\\\Data/JPL'"
      ]
     },
     "execution_count": 4,
     "metadata": {},
     "output_type": "execute_result"
    }
   ],
   "source": [
    "data_path = properties('data_path')\n",
    "datadir = data_path + \"JPL\"\n",
    "datadir"
   ]
  },
  {
   "cell_type": "code",
   "execution_count": 5,
   "metadata": {
    "collapsed": true
   },
   "outputs": [],
   "source": [
    "def make_sure_path_exists(path): \n",
    "    '''\n",
    "    Function to  make a new directory structure if it doesnt exists.\n",
    "    Created by following: \n",
    "    # http://stackoverflow.com/questions/273192/how-to-check-if-a-directory-exists-and-create-it-if-necessary\n",
    "    Input: Directory path\n",
    "    Output: Creates directories if they dont exist\n",
    "    '''\n",
    "    if not os.path.exists(path):\n",
    "        os.makedirs(path)\n",
    "\n",
    "make_sure_path_exists(datadir)"
   ]
  },
  {
   "cell_type": "code",
   "execution_count": 26,
   "metadata": {
    "collapsed": false
   },
   "outputs": [],
   "source": [
    "def connect(server='sideshow.jpl.nasa.gov'):\n",
    "    '''\n",
    "    Function to establish ftp connection to server\n",
    "    \n",
    "    Input: url to server. By default it is the JPL server url\n",
    "    '''\n",
    "\n",
    "    ftp = FTP(server)     # connect to host, default port\n",
    "    ftp.login()                     # user anonymous, passwd anonymous@\n",
    "    return ftp"
   ]
  },
  {
   "cell_type": "code",
   "execution_count": 27,
   "metadata": {
    "collapsed": true
   },
   "outputs": [],
   "source": [
    "# http://stackoverflow.com/questions/3451817/python-ftplib-timing-out\n",
    "# ftp.set_pasv(False)\n",
    "# http://stackoverflow.com/questions/5230966/python-ftp-download-all-files-in-directory"
   ]
  },
  {
   "cell_type": "code",
   "execution_count": 28,
   "metadata": {
    "collapsed": false
   },
   "outputs": [
    {
     "data": {
      "text/plain": [
       "'250 CWD command successful'"
      ]
     },
     "execution_count": 28,
     "metadata": {},
     "output_type": "execute_result"
    }
   ],
   "source": [
    "ftp = connect()\n",
    "ftp.cwd('pub/usrs/mbh/point') # Change working directory to time series folder"
   ]
  },
  {
   "cell_type": "code",
   "execution_count": 29,
   "metadata": {
    "collapsed": false
   },
   "outputs": [
    {
     "name": "stdout",
     "output_type": "stream",
     "text": [
      "['NOVM.series', 'NPIT.series', 'NPLD.series', 'NPLY.series', 'NPOC.series', 'NPRG.series', 'NPRI.series', 'NRC1.series', 'NRC2.series', 'NRIF.series', 'NRIL.series', 'NRL1.series', 'NRMD.series', 'NRWY.series', 'NSSP.series', 'NSSS.series', 'NSTG.series', 'NTKA.series', 'NTUS.series', 'NUNE.series', 'NURK.series', 'NVSK.series', 'NWCC.series', 'NYA1.series', 'NYAL.series', 'NZRT.series', 'OAES.series', 'OAT2.series', 'OBE2.series', 'OBEC.series', 'OBER.series', 'OBET.series', 'OCSD.series', 'ODS5.series', 'OEOC.series', 'OFW2.series', 'OFWY.series', 'OGHS.series', 'OHI2.series', 'OHIG.series', 'OHLN.series', 'OKEE.series', 'OKIT.series', 'OKOM.series', 'OMH1.series', 'ONSA.series', 'OPBL.series', 'OPCL.series', 'OPCP.series', 'OPCX.series', 'OPMT.series', 'OPRD.series', 'ORES.series', 'ORID.series', 'ORMT.series', 'ORO_.series', 'ORVB.series', 'OS0G.series', 'OSJE.series', 'OSN1.series', 'OSN2.series', 'OUS2.series', 'OUSD.series', 'OVLS.series', 'OXMT.series', 'OXYC.series', 'OZST.series', 'P001.series', 'P002.series', 'P003.series', 'P004.series', 'P005.series', 'P006.series', 'P007.series', 'P008.series', 'P009.series', 'P010.series', 'P011.series', 'P012.series', 'P013.series', 'P014.series', 'P015.series', 'P016.series', 'P017.series', 'P018.series', 'P019.series', 'P020.series', 'P021.series', 'P022.series', 'P023.series', 'P024.series', 'P025.series', 'P026.series', 'P027.series', 'P028.series', 'P029.series', 'P030.series', 'P031.series', 'P032.series', 'P033.series', 'P034.series', 'P035.series', 'P036.series', 'P037.series', 'P038.series', 'P039.series', 'P040.series', 'P041.series', 'P042.series', 'P043.series', 'P044.series', 'P045.series', 'P046.series', 'P047.series', 'P048.series', 'P049.series', 'P050.series', 'P051.series', 'P052.series', 'P053.series', 'P054.series', 'P055.series', 'P056.series', 'P057.series', 'P058.series', 'P059.series', 'P060.series', 'P061.series', 'P062.series', 'P063.series', 'P065.series', 'P066.series', 'P067.series', 'P068.series', 'P069.series', 'P070.series', 'P071.series', 'P072.series', 'P073.series', 'P074.series', 'P075.series', 'P076.series', 'P077.series', 'P078.series', 'P079.series', 'P080.series', 'P081.series', 'P082.series', 'P083.series', 'P084.series', 'P085.series', 'P086.series', 'P087.series', 'P088.series', 'P089.series', 'P090.series', 'P091.series', 'P092.series', 'P093.series', 'P094.series', 'P095.series', 'P096.series', 'P097.series', 'P098.series', 'P099.series', 'P100.series', 'P101.series', 'P102.series', 'P103.series', 'P104.series', 'P105.series', 'P106.series', 'P107.series', 'P108.series', 'P109.series', 'P110.series', 'P111.series', 'P112.series', 'P113.series', 'AB01.series', 'P114.series', 'P115.series', 'AB02.series', 'P116.series', 'P117.series', 'P118.series', 'P119.series', 'P120.series', 'P121.series', 'P122.series', 'P123.series', 'P124.series', 'P125.series', 'P126.series', 'P127.series', 'P128.series', 'P129.series', 'P130.series', 'P131.series', 'P132.series', 'P133.series', 'P134.series', 'P135.series', 'P136.series', 'P137.series', 'P138.series', 'P139.series', 'P140.series', 'P141.series', 'P142.series', 'P143.series', 'P144.series', 'P145.series', 'P147.series', 'P148.series', 'P149.series', 'P150.series', 'P151.series', 'P154.series', 'P155.series', 'P156.series', 'P157.series', 'P158.series', 'P159.series', 'P160.series', 'P161.series', 'P162.series', 'P163.series', 'P164.series', 'P165.series', 'P166.series', 'P167.series', 'P168.series', 'P169.series', 'P170.series', 'P171.series', 'P172.series', 'P173.series', 'P174.series', 'P175.series', 'P176.series', 'P177.series', 'P178.series', 'P179.series', 'P180.series', 'P181.series', 'P182.series', 'P183.series', 'P184.series', 'P185.series', 'P186.series', 'P187.series', 'P188.series', 'P189.series', 'P190.series', 'P191.series', 'P192.series', 'P193.series', 'P194.series', 'P195.series', 'P196.series', 'P197.series', 'P198.series', 'P199.series', 'P200.series', 'P201.series', 'P202.series', 'P203.series', 'P204.series', 'P205.series', 'P206.series', 'P207.series', 'P208.series', 'P209.series', 'P210.series', 'P211.series', 'P212.series', 'P213.series', 'P214.series', 'P215.series', 'P216.series', 'P217.series', 'P218.series', 'P219.series', 'P220.series', 'P221.series', 'P222.series', 'P223.series', 'P224.series', 'P225.series', 'P226.series', 'P227.series', 'P228.series', 'P229.series', 'P230.series', 'P231.series', 'P232.series', 'P233.series', 'P234.series', 'P235.series', 'README', 'P236.series', 'P237.series', 'P238.series', 'P239.series', 'P240.series', 'P241.series', 'P242.series', 'P243.series', 'P244.series', 'P245.series', 'P247.series', 'P248.series', 'P249.series', 'P250.series', 'P251.series', 'P252.series', 'P253.series', 'P254.series', 'P255.series', 'P256.series', 'P257.series', 'P258.series', 'P259.series', 'P260.series', 'P261.series', 'P262.series', 'P263.series', 'P264.series', 'P265.series', 'P266.series', 'P267.series', 'P268.series', 'P269.series', 'P270.series', 'P271.series', 'P272.series', 'P273.series', 'P274.series', 'P275.series', 'P276.series', 'P277.series', 'P278.series', 'P279.series', 'P280.series', 'P281.series', 'AB04.series', 'P282.series', 'P283.series', 'P284.series', 'P285.series', 'P286.series', 'P287.series', 'P288.series', 'P289.series', 'P290.series', 'P291.series', 'P292.series', 'P293.series', 'P294.series', 'P295.series', 'P296.series', 'P297.series', 'P298.series', 'P299.series', 'P300.series', 'P301.series', 'P302.series', 'P303.series', 'P304.series', 'P305.series', 'P306.series', 'P307.series', 'P308.series', 'P309.series', 'P310.series', 'P311.series', 'P312.series', 'P313.series', 'P314.series', 'P315.series', 'P316.series', 'P317.series', 'P318.series', 'P319.series', 'P320.series', 'P321.series', 'P322.series', 'P324.series', 'AB06.series', 'P325.series', 'P326.series', 'P327.series', 'P329.series', 'P330.series', 'P331.series', 'P332.series', 'P333.series', 'P334.series', 'P335.series', 'P336.series', 'P337.series', 'P338.series', 'P339.series', 'P340.series', 'P341.series', 'P343.series', 'P344.series', 'P345.series', 'P346.series', 'P347.series', 'P348.series', 'P349.series', 'P350.series', 'P351.series', 'P352.series', 'P353.series', 'P354.series', 'P355.series', 'P356.series', 'P357.series', 'P358.series', 'P359.series', 'P360.series', 'P361.series', 'P362.series', 'P363.series', 'P364.series', 'P365.series', 'P366.series', 'P367.series', 'P368.series', 'P369.series', 'P370.series', 'P371.series', 'P372.series', 'P373.series', 'P374.series', 'P375.series', 'P376.series', 'P377.series', 'P378.series', 'P379.series', 'P380.series', 'P381.series', 'P382.series', 'P383.series', 'P384.series', 'P385.series', 'P386.series', 'P387.series', 'P388.series', 'P389.series', 'P390.series', 'P391.series', 'P392.series', 'P393.series', 'P394.series', 'P395.series', 'P396.series', 'P397.series', 'P398.series', 'P399.series', 'P400.series', 'P401.series', 'P402.series', 'P403.series', 'P404.series', 'P405.series', 'P406.series', 'P407.series', 'P408.series', 'P409.series', 'P410.series', 'P411.series', 'P412.series', 'P413.series', 'P414.series', 'P415.series', 'P416.series', 'P417.series', 'P418.series', 'P419.series', 'P420.series', 'P421.series', 'P422.series', 'P423.series', 'P424.series', 'P425.series', 'P426.series', 'P427.series', 'P429.series', 'P430.series', 'P431.series', 'P432.series', 'P433.series', 'P434.series', 'P435.series', 'P436.series', 'P437.series', 'P438.series', 'P439.series', 'P440.series', 'P441.series', 'P442.series', 'P443.series', 'P444.series', 'P445.series', 'P446.series', 'P447.series', 'P448.series', 'P449.series', 'P450.series', 'P451.series', 'P452.series', 'P453.series', 'P454.series', 'P455.series', 'P456.series', 'P457.series', 'P458.series', 'P459.series', 'P460.series', 'P461.series', 'P462.series', 'P463.series', 'P464.series', 'P465.series', 'P466.series', 'P467.series', 'P468.series', 'P469.series', 'P470.series', 'P471.series', 'P472.series', 'P473.series', 'P474.series', 'P475.series', 'P476.series', 'P477.series', 'P478.series', 'P479.series', 'P480.series', 'P481.series', 'P482.series', 'P483.series', 'P484.series', 'P485.series', 'P486.series', 'P487.series', 'P488.series', 'P489.series', 'P490.series', 'P491.series', 'P492.series', 'P493.series', 'P494.series', 'P495.series', 'P496.series', 'P497.series', 'P498.series', 'P499.series', 'P500.series', 'P501.series', 'P502.series', 'P503.series', 'P504.series', 'P505.series', 'P506.series', 'P507.series', 'P508.series', 'P509.series', 'P510.series', 'P511.series', 'P512.series', 'P513.series', 'P514.series', 'P515.series', 'P516.series', 'AB07.series', 'P517.series', 'P518.series', 'P519.series', 'P520.series', 'P521.series', 'P522.series', 'P523.series', 'P524.series', 'P525.series', 'P526.series', 'P527.series', 'P528.series', 'P529.series', 'P530.series', 'P531.series', 'P532.series', 'P533.series', 'P534.series', 'P535.series', 'P536.series', 'P537.series', 'P538.series', 'P539.series', 'P540.series', 'P541.series', 'P542.series', 'P543.series', 'P544.series', 'P545.series', 'P546.series', 'P547.series', 'P548.series', 'P549.series', 'P550.series', 'P551.series', 'P552.series', 'P553.series', 'P554.series', 'P555.series', 'P556.series', 'P557.series', 'P558.series', 'P559.series', 'P560.series', 'P561.series', 'P562.series', 'P563.series', 'P564.series', 'P565.series', 'P566.series', 'P567.series', 'P568.series', 'P569.series', 'P570.series', 'P571.series', 'P572.series', 'P573.series', 'P574.series', 'P575.series', 'P576.series', 'P577.series', 'P578.series', 'P579.series', 'P580.series', 'P581.series', 'P582.series', 'P583.series', 'P584.series', 'P585.series', 'AB08.series', 'P586.series', 'P587.series', 'P588.series', 'P589.series', 'P590.series', 'P591.series', 'P592.series', 'P593.series', 'P594.series', 'P595.series', 'P596.series', 'P597.series', 'P598.series', 'P599.series', 'P600.series', 'P601.series', 'P602.series', 'P603.series', 'P604.series', 'P605.series', 'P606.series', 'P607.series', 'P608.series', 'P609.series', 'P610.series', 'P611.series', 'P612.series', 'P613.series', 'P614.series', 'P615.series', 'P616.series', 'P617.series', 'P618.series', 'P619.series', 'P620.series', 'P621.series', 'P622.series', 'P623.series', 'P625.series', 'P626.series', 'P627.series', 'P628.series', 'P629.series', 'P630.series', 'P631.series', 'P632.series', 'P633.series', 'P634.series', 'P635.series', 'P636.series', 'P637.series', 'P638.series', 'P639.series', 'P640.series', 'P641.series', 'P642.series', 'P643.series', 'P644.series', 'P645.series', 'P646.series', 'P647.series', 'P648.series', 'P649.series', 'P650.series', 'P651.series', 'P652.series', 'P653.series', 'P654.series', 'AB09.series', 'P657.series', 'P658.series', 'P660.series', 'P661.series', 'P663.series', 'P666.series', 'P668.series', 'P670.series', 'P671.series', 'P672.series', 'P673.series', 'P674.series', 'P675.series', 'P676.series', 'P677.series', 'P678.series', 'P679.series', 'P680.series', 'P681.series', 'P682.series', 'P683.series', 'P684.series', 'P685.series', 'P686.series', 'P687.series', 'P689.series', 'P691.series', 'P692.series', 'P694.series', 'P696.series', 'P698.series', 'P700.series', 'P701.series', 'P702.series', 'P703.series', 'P706.series', 'P707.series', 'P709.series', 'P710.series', 'P711.series', 'P712.series', 'P713.series', 'P714.series', 'P715.series', 'P716.series', 'P717.series', 'P718.series', 'P719.series', 'P720.series', 'P721.series', 'P722.series', 'P723.series', 'P724.series', 'P725.series', 'P726.series', 'P727.series', 'P728.series', 'P729.series', 'P730.series', 'P731.series', 'P732.series', 'P733.series', 'P734.series', 'P735.series', 'P736.series', 'P737.series', 'P738.series', 'P739.series', 'P740.series', 'P741.series', 'P742.series', 'P744.series', 'P775.series', 'P776.series', 'P777.series', 'P778.series', 'P779.series', 'P780.series', 'P781.series', 'P782.series', 'P783.series', 'P784.series', 'P786.series', 'P787.series', 'P788.series', 'P789.series', 'P790.series', 'P793.series', 'P794.series', 'P795.series', 'P796.series', 'P797.series', 'P798.series', 'P799.series', 'P800.series', 'PABH.series', 'PADO.series', 'PALA.series', 'PALK.series', 'PALM.series', 'PALX.series', 'PAPE.series', 'PARA.series', 'PARC.series', 'PARK.series', 'PARY.series', 'PATT.series', 'PBAI.series', 'PBAY.series', 'PBHR.series', 'PBL1.series', 'PBLI.series', 'PBOC.series', 'PBPP.series', 'PBR2.series', 'PBRI.series', 'PCK1.series', 'PCLM.series', 'PCOL.series', 'PDEL.series', 'PECE.series', 'PENC.series', 'PERL.series', 'PERT.series', 'PETP.series', 'PETS.series', 'PFAN.series', 'PFLD.series', 'PG2R.series', 'PGC5.series', 'PGF4.series', 'PHIN.series', 'PHJX.series', 'PHLB.series', 'PHLW.series', 'PICL.series', 'PIE1.series', 'PIGT.series', 'AB13.series', 'PIMO.series', 'PIN1.series', 'PIN2.series', 'PIT1.series', 'PJZX.series', 'PKDB.series', 'PKMN.series', 'PKRD.series', 'PKTN.series', 'PLO3.series', 'PLPX.series', 'PLS1.series', 'PLTC.series', 'PLTX.series', 'PMAR.series', 'PMHS.series', 'PMOB.series', 'PMTN.series', 'PNB1.series', 'PNGM.series', 'PNR1.series', 'POHN.series', 'POIN.series', 'POL2.series', 'POLV.series', 'POMM.series', 'POR4.series', 'AB14.series', 'POT3.series', 'POTB.series', 'POTR.series', 'POTS.series', 'POVE.series', 'PPBF.series', 'PPT1.series', 'PRAT.series', 'PRCO.series', 'PRDS.series', 'PRDY.series', 'PRE1.series', 'PRE2.series', 'PSAP.series', 'PSC1.series', 'PSDM.series', 'PSKI.series', 'PSTX.series', 'PSU1.series', 'PTAL.series', 'PTAX.series', 'PTBB.series', 'PTEX.series', 'PTGV.series', 'PTLO.series', 'PTRB.series', 'PTRF.series', 'PTSG.series', 'PUB1.series', 'PUC1.series', 'PUPU.series', 'PUR3.series', 'PVE3.series', 'PVEP.series', 'PVHS.series', 'PVRS.series', 'PWEL.series', 'QAAR.series', 'QAQ1.series', 'QHTP.series', 'QIKI.series', 'QSEC.series', 'QUAD.series', 'QUAR.series', 'QUI1.series', 'QUI2.series', 'QUIN.series', 'RAAP.series', 'RABT.series', 'RAIL.series', 'RALR.series', 'RAMO.series', 'RAMT.series', 'RAPT.series', 'RBAY.series', 'RBRU.series', 'RBUT.series', 'RCA2.series', 'RCM5.series', 'RCMN.series', 'RDJH.series', 'RDMT.series', 'RDOM.series', 'RDWB.series', 'RECF.series', 'RED1.series', 'REDM.series', 'REDU.series', 'REGI.series', 'RELA.series', 'REP2.series', 'REP3.series', 'REP4.series', 'REPO.series', 'RESO.series', 'REUN.series', 'REYK.series', 'REYZ.series', 'RGAO.series', 'RHCL.series', 'RIBA.series', 'RIGA.series', 'RINK.series', 'RIO2.series', 'RIOG.series', 'RIOP.series', 'RIS1.series', 'AB15.series', 'RLAP.series', 'RMLS.series', 'RNCH.series', 'RNO1.series', 'ROAP.series', 'ROBI.series', 'ROCH.series', 'ROCK.series', 'ROGE.series', 'ROSS.series', 'ROTH.series', 'RPT1.series', 'RSTP.series', 'RSVY.series', 'RTHS.series', 'RUBY.series', 'RUMP.series', 'RWDN.series', 'RWSN.series', 'RYAN.series', 'S300.series', 'SA39.series', 'SA40.series', 'SA42.series', 'SA60.series', 'SA62.series', 'SA63.series', 'SACH.series', 'SACY.series', 'SAG1.series', 'SAL1.series', 'SALU.series', 'SAMO.series', 'SAMP.series', 'SAN0.series', 'SANT.series', 'SAOB.series', 'SASK.series', 'SASS.series', 'SATS.series', 'SAV1.series', 'SAVO.series', 'SAWC.series', 'SBCC.series', 'SBGZ.series', 'SBOK.series', 'SBRB.series', 'SBRN.series', 'SC00.series', 'SC01.series', 'SC02.series', 'SC03.series', 'SC04.series', 'SCH2.series', 'SCIA.series', 'SCIP.series', 'SCMS.series', 'SCOA.series', 'SCOR.series', 'SCUB.series', 'SDHL.series', 'SDLY.series', 'SEAI.series', 'SEAT.series', 'SEAW.series', 'SEDR.series', 'SEKC.series', 'SELD.series', 'SELE.series', 'SENU.series', 'SEY1.series', 'SFDM.series', 'SFEL.series', 'SFER.series', 'SG01.series', 'SG03.series', 'SG04.series', 'SG05.series', 'SG06.series', 'SG07.series', 'SG08.series', 'SG10.series', 'SG11.series', 'SG12.series', 'SG13.series', 'SG14.series', 'SG15.series', 'SG16.series', 'SG18.series', 'SG19.series', 'AB17.series', 'SG20.series', 'SG21.series', 'SG23.series', 'SG24.series', 'SG25.series', 'SG26.series', 'SG27.series', 'SG32.series', 'SG72.series', 'SGDM.series', 'SGHS.series', 'SGPS.series', 'SHAO.series', 'SHAS.series', 'SHE2.series', 'SHEE.series', 'SHIN.series', 'SHK1.series', 'SHLD.series', 'SHOS.series', 'SHPM.series', 'SIBE.series', 'SIBY.series', 'SIDN.series', 'SILK.series', 'SIMO.series', 'SIO2.series', 'SIO3.series', 'SIO5.series', 'SJDV.series', 'SKE0.series', 'SKUL.series', 'SKYB.series', 'SLAC.series', 'SLAI.series', 'SLBU.series', 'SLCU.series', 'SLID.series', 'SLMS.series', 'SLOM.series', 'SMEL.series', 'SMST.series', 'SMYC.series', 'SNFD.series', 'SNHS.series', 'SNI1.series', 'SNOG.series', 'SODA.series', 'SODB.series', 'SOFI.series', 'SOL1.series', 'SOLA.series', 'SOMT.series', 'SOWR.series', 'SPIC.series', 'SPIT.series', 'SPK1.series', 'SPKS.series', 'SPMS.series', 'SPMX.series', 'SPN1.series', 'SPT0.series', 'SRB1.series', 'SRJV.series', 'SRP1.series', 'SRS1.series', 'STAS.series', 'STAY.series', 'STB1.series', 'STEA.series', 'STHL.series', 'STJO.series', 'STK2.series', 'STKR.series', 'STL3.series', 'STL4.series', 'STLE.series', 'STP1.series', 'STR1.series', 'STR2.series', 'STRI.series', 'STRL.series', 'SUAA.series', 'SULP.series', 'SUM1.series', 'SUMK.series', 'SUP1.series', 'SUP2.series', 'SUP3.series', 'SUTB.series', 'SUTH.series', 'SUTM.series', 'SUTV.series', 'SUUR.series', 'SUVA.series', 'SUWN.series', 'SVIN.series', 'SVTL.series', 'SYCN.series', 'SYDN.series', 'SYOG.series', 'TABL.series', 'TAEJ.series', 'TAH1.series', 'TAH2.series', 'TAIW.series', 'TALA.series', 'TASH.series', 'TATE.series', 'TAUP.series', 'TBLP.series', 'TCMS.series', 'TCUN.series', 'TEGU.series', 'TEHN.series', 'TELA.series', 'TERS.series', 'TERU.series', 'TETN.series', 'TFNO.series', 'TGCV.series', 'THAL.series', 'THCP.series', 'THMG.series', 'THTI.series', 'THU1.series', 'THU2.series', 'THU3.series', 'THUN.series', 'THUR.series', 'TIBB.series', 'TID1.series', 'TID2.series', 'TIDB.series', 'TIFF.series', 'TILC.series', 'TITZ.series', 'TIVA.series', 'TIXI.series', 'TIXJ.series', 'TJRN.series', 'TLKA.series', 'TLSE.series', 'TMAP.series', 'TMCO.series', 'TMGO.series', 'TNML.series', 'TOIY.series', 'TONG.series', 'TONO.series', 'TORI.series', 'TORP.series', 'TORS.series', 'TOST.series', 'TOUL.series', 'TOW2.series', 'TPW2.series', 'TRAB.series', 'TRAK.series', 'TRDS.series', 'TREV.series', 'TRND.series', 'TRO1.series', 'TROM.series', 'TROY.series', 'TSEA.series', 'TSKB.series', 'TSWY.series', 'TUBI.series', 'TUCU.series', 'TUKT.series', 'TUNG.series', 'TUVA.series', 'TWHL.series', 'TWMS.series', 'TWTF.series', 'TXC1.series', 'UCD1.series', 'UCLP.series', 'UCLU.series', 'UCOM.series', 'UCSB.series', 'UCSF.series', 'UDEC.series', 'UDMC.series', 'UEPP.series', 'UFPR.series', 'UIUC.series', 'ULAB.series', 'ULDI.series', 'UNB1.series', 'UNBJ.series', 'UNFE.series', 'UNIV.series', 'UNPG.series', 'UNSA.series', 'UPAD.series', 'UPO1.series', 'UPSA.series', 'UPTC.series', 'URIL.series', 'URUM.series', 'USC1.series', 'USGC.series', 'USLO.series', 'USMX.series', 'USN1.series', 'USN3.series', 'USNA.series', 'USNO.series', 'USUD.series', 'UVFM.series', 'UZHL.series', 'VA01.series', 'VA02.series', 'VAAS.series', 'VABG.series', 'VACS.series', 'VALD.series', 'VALE.series', 'VALP.series', 'VAN1.series', 'VANU.series', 'VARS.series', 'VBCA.series', 'VCAP.series', 'VCIO.series', 'VCST.series', 'VDCY.series', 'VENE.series', 'VERA.series', 'VESL.series', 'VFDG.series', 'VIC1.series', 'VIL0.series', 'VILL.series', 'VIMS.series', 'VIMT.series', 'VINE.series', 'VIS0.series', 'VLCN.series', 'VLNS.series', 'VLUC.series', 'VNAD.series', 'VNCO.series', 'VNCX.series', 'VNDP.series', 'VNPS.series', 'VOIL.series', 'VOLT.series', 'VONS.series', 'VTIS.series', 'VYAS.series', 'WAB2.series', 'WACO.series', 'WAKA.series', 'WARE.series', 'WARN.series', 'WASR.series', 'WATC.series', 'WCHS.series', 'WDBN.series', 'WDC3.series', 'WDC4.series', 'WDCB.series', 'WDLM.series', 'WEL1.series', 'WEL2.series', 'WES2.series', 'WETT.series', 'WGPP.series', 'WGTN.series', 'WGTT.series', 'WHC1.series', 'WHD1.series', 'WHI1.series', 'WHIT.series', 'WHN1.series', 'WHP1.series', 'WHTM.series', 'WHYT.series', 'WIDC.series', 'WIKR.series', 'WIL1.series', 'WILL.series', 'WIN2.series', 'WIND.series', 'WINT.series', 'WIS1.series', 'WKPK.series', 'WLCI.series', 'WLPS.series', 'WLSN.series', 'WLWY.series', 'WMAP.series', 'WMOK.series', 'WNCI.series', 'WNFL.series', 'WNRA.series', 'WOMT.series', 'WOOS.series', 'WPRG.series', 'WRHS.series', 'WROC.series', 'WSLR.series', 'WSMN.series', 'WSRT.series', 'WTHG.series', 'WTZA.series', 'WTZJ.series', 'WTZR.series', 'WTZS.series', 'WTZT.series', 'WTZZ.series', 'WUHN.series', 'WWMT.series', 'XIAN.series', 'XMIS.series', 'YAIG.series', 'YAKZ.series', 'YAR1.series', 'YAR2.series', 'YAR3.series', 'YARR.series', 'YBHB.series', 'YEBE.series', 'YELL.series', 'YELM.series', 'YESX.series', 'YIBL.series', 'YKRO.series', 'YMER.series', 'YMTS.series', 'YOSH.series', 'YOU1.series', 'YRCM.series', 'YSSK.series', 'ZAMB.series', 'ZECK.series', 'ZIM2.series', 'ZIMJ.series', 'ZIMM.series', 'ZIMZ.series', 'ZOA1.series', 'ZOLE.series', 'ZOUF.series', 'ZWE2.series', '019B.series', '7ODM.series', 'AB11.series', 'AB12.series', 'AB53.series', 'AC16.series', 'AC25.series', 'AC33.series', 'AC47.series', 'AC48.series', 'ACP1.series', 'ACP6.series', 'ACSB.series', 'AIS2.series', 'ANP2.series', 'AR27.series', 'AR53.series', 'AREV.series', 'ASBU.series', 'AUKT.series', 'AV04.series', 'AV20.series', 'AV26.series', 'AV27.series', 'AV29.series', 'AV35.series', 'AV36.series', 'AV39.series', 'BARA.series', 'BASC.series', 'BCRK.series', 'BELI.series', 'BHMA.series', 'BIGD.series', 'BIJA.series', 'BILB.series', 'BLUF.series', 'BOAV.series', 'BOMJ.series', 'BRUX.series', 'BUMS.series', 'CABA.series', 'CAKO.series', 'CALL.series', 'CASE.series', 'CCV4.series', 'CEFE.series', 'CGGN.series', 'CHAC.series', 'CHML.series', 'CHO5.series', 'CIHL.series', 'CJMG.series', 'CJVG.series', 'CLCV.series', 'CLMS.series', 'CLWZ.series', 'CMBL.series', 'CME5.series', 'CME6.series', 'CMPN.series', 'CN00.series', 'CN03.series', 'CN05.series', 'CN07.series', 'CN08.series', 'CN09.series', 'CN13.series', 'CN14.series', 'CN15.series', 'CN19.series', 'CN20.series', 'CN22.series', 'CN23.series', 'CN24.series', 'CN27.series', 'CN28.series', 'CN30.series', 'CN33.series', 'CN35.series', 'CN36.series', 'CN37.series', 'CN38.series', 'CON2.series', 'CONZ.series', 'CORM.series', 'COSE.series', 'CPCO.series', 'CUIB.series', 'CUPR.series', 'CWAK.series', 'DAEJ.series', 'DAKR.series', 'DIXN.series', 'DODM.series', 'DONO.series', 'DUBP.series', 'DUTC.series', 'DYH2.series', 'DYNG.series', 'EBBE.series', 'EKY2.series', 'ELA2.series', 'ELLY.series', 'ELTS.series', 'ENUM.series', 'EPZA.series', 'FLRS.series', 'FST2.series', 'FTNA.series', 'GASB.series', 'GDMA.series', 'GLDB.series', 'GRE0.series', 'GUAT.series', 'HAAS.series', 'HAG1.series', 'HAMT.series', 'HART.series', 'HDF2.series', 'HELB.series', 'HER2.series', 'HIKB.series', 'HPIG.series', 'HRN2.series', 'HTV2.series', 'HUA2.series', 'HUTB.series', 'IBIZ.series', 'IDOG.series', 'IDQG.series', 'ILDX.series', 'ILSG.series', 'IMPZ.series', 'INMN.series', 'IQUI.series', 'JASK.series', 'JIME.series', 'JLN5.series', 'JME2.series', 'JNHG.series', 'JOG2.series', 'JRSC.series', 'KAIK.series', 'KAN2.series', 'KAPT.series', 'KAT1.series', 'KEN2.series', 'KOUG.series', 'KSMV.series', 'KWBU.series', 'LCAP.series', 'LEBC.series', 'LESV.series', 'LEV2.series', 'LEXA.series', 'LFLO.series', 'LIA2.series', 'LIA3.series', 'LPIL.series', 'LPLY.series', 'LPOC.series', 'LRA1.series', 'LRA3.series', 'LVEG.series', 'M0SE.series', 'MAHO.series', 'MAPS.series', 'MARN.series', 'MAVL.series', 'MCCM.series', 'MERI.series', 'MHTL.series', 'MIA4.series', 'MIL2.series', 'MILP.series', 'MIZU.series', 'MKAI.series', 'MOIU.series', 'MOPS.series', 'MOR2.series', 'MOZI.series', 'MREP.series', 'MSHP.series', 'MSKU.series', 'MSWB.series', 'MTY2.series', 'NAMA.series', 'NAS0.series', 'NBR1.series', 'NETT.series', 'NLSN.series', 'NOA1.series', 'NORM.series', 'NWBL.series', 'OAX2.series', 'OBE4.series', 'OBSR.series', 'OHI3.series', 'OKNC.series', 'OKSO.series', 'OMH2.series', 'OSHK.series', 'OYLR.series', 'P064.series', 'P146.series', 'P655.series', 'P656.series', 'P664.series', 'P665.series', 'P667.series', 'P669.series', 'P688.series', 'P690.series', 'P693.series', 'P695.series', 'P697.series', 'P699.series', 'P705.series', 'P708.series', 'P791.series', 'P792.series', 'P801.series', 'P802.series', 'P803.series', 'P804.series', 'P805.series', 'P806.series', 'P811.series', 'P812.series', 'P813.series', 'AB18.series', 'AB21.series', 'P814.series', 'P815.series', 'P816.series', 'P817.series', 'PAEK.series', 'PDME.series', 'PFR2.series', 'PFRR.series', 'PGF3.series', 'PHIG.series', 'PIRT.series', 'PLS2.series', 'PLSB.series', 'PNB2.series', 'PNE2.series', 'POAL.series', 'POR3.series', 'PORE.series', 'POUM.series', 'POZE.series', 'PPER.series', 'PPTE.series', 'PRPT.series', 'AB22.series', 'PTRO.series', 'PUB2.series', 'PUKE.series', 'PUR2.series', 'RCHY.series', 'RDSD.series', 'RDSO.series', 'RED2.series', 'REDC.series', 'RG03.series', 'RG25.series', 'RIOB.series', 'RIPA.series', 'RMBO.series', 'RMVJ.series', 'ROCP.series', 'ROVE.series', 'SAG2.series', 'SAGA.series', 'SAJU.series', 'SAL2.series', 'SAV2.series', 'SCCP.series', 'SCRZ.series', 'SG09.series', 'SG41.series', 'SG42.series', 'SG43.series', 'SG44.series', 'SG45.series', 'SG46.series', 'SG47.series', 'SG48.series', 'SHP5.series', 'SHRC.series', 'SHTZ.series', 'SIMM.series', 'SKMA.series', 'SMAI.series', 'SNRS.series', 'SONG.series', 'SPBG.series', 'SPCG.series', 'SPCP.series', 'SPCR.series', 'SPED.series', 'SPKN.series', 'SPN2.series', 'SROD.series', 'SSIA.series', 'STEW.series', 'STVI.series', 'SUM2.series', 'SVIC.series', 'SVRT.series', 'SWEP.series', 'SWNB.series', 'T3RP.series', 'TABV.series', 'TAFT.series', 'TAMP.series', 'TDOU.series', 'TEHA.series', 'TEZI.series', 'TGUA.series', 'THIO.series', 'THMS.series', 'THSU.series', 'THTG.series', 'TMBU.series', 'TOMO.series', 'TOPL.series', 'TOR2.series', 'TRCP.series', 'TRLK.series', 'TRNG.series', 'TSEP.series', 'TSK2.series', 'TSTU.series', 'TTTA.series', 'TUC2.series', 'TWIW.series', 'TWRI.series', 'UACO.series', 'UH01.series', 'UNPM.series', 'UNTR.series', 'USAL.series', 'VAN2.series', 'VCVL.series', 'VEN1.series', 'VGFW.series', 'VGOB.series', 'VGWN.series', 'VHMR.series', 'VIC2.series', 'VMAG.series', 'VMIG.series', 'VTOR.series', 'WAIM.series', 'WANG.series', 'WARK.series', 'WHN2.series', 'WHNG.series', 'WIFR.series', 'WLCT.series', 'WOST.series', 'WWFG.series', 'YAKT.series', 'YCBA.series', 'YONS.series', 'YSST.series', 'ZADA.series', 'ZOA2.series', 'ZOMB.series', 'ZWEN.series', 'AB25.series', 'AB27.series', 'AB28.series', 'AB33.series', 'AB35.series', 'AB36.series', 'AB37.series', 'AB39.series', 'AB41.series', 'AB42.series', 'AB43.series', 'AB44.series', 'AB45.series', 'AB46.series', 'AB48.series', 'AB49.series', 'AB50.series', 'AB51.series', 'ABEB.series', 'ABMF.series', 'ABPO.series', 'ABVI.series', 'AC02.series', 'AC03.series', 'AC06.series', 'AC07.series', 'AC08.series', 'AC09.series', 'AC10.series', 'AC11.series', 'AC12.series', 'AC13.series', 'AC14.series', 'AC15.series', 'AC17.series', 'AC18.series', 'AC19.series', 'AC20.series', 'AC21.series', 'AC23.series', 'AC24.series', 'AC26.series', 'AC27.series', 'AC28.series', 'AC31.series', 'AC32.series', 'AC34.series', 'AC35.series', 'AC36.series', 'AC37.series', 'AC38.series', 'AC39.series', 'AC40.series', 'AC41.series', 'AC42.series', 'AC43.series', 'AC44.series', 'AC45.series', 'AC46.series', 'AC50.series', 'AC51.series', 'AC52.series', 'AC53.series', 'AC55.series', 'AC57.series', 'AC58.series', 'AC59.series', 'AC60.series', 'AC61.series', 'AC62.series', 'AC63.series', 'AC64.series', 'AC65.series', 'AC66.series', 'AC67.series', 'AC70.series', 'AC71.series', 'AC72.series', 'AC74.series', 'AC75.series', 'AC76.series', 'AC77.series', 'AC78.series', 'AC79.series', 'AC80.series', 'ACOR.series', 'ACSO.series', 'ACU1.series', 'ACU5.series', 'ADE1.series', 'ADE2.series', 'ADIS.series', 'ADKS.series', 'ADRI.series', 'AGMT.series', 'AHID.series', 'AIRA.series', 'AIS1.series', 'AJAC.series', 'ALAC.series', 'ALAM.series', 'ALBH.series', 'ALGO.series', 'ALIC.series', 'ALLG.series', 'ALME.series', 'ALON.series', 'ALPP.series', 'ALRT.series', 'ALTH.series', 'AMC2.series', 'AML5.series', 'AMMN.series', 'ANA1.series', 'ANG1.series', 'ANG2.series', 'ANKR.series', 'ANP1.series', 'ANTC.series', 'ANTO.series', 'AOA1.series', 'AOML.series', 'APEX.series', 'AQUI.series', 'ARCO.series', 'AREL.series', 'AREQ.series', 'ARGU.series', 'ARL5.series', 'ARLI.series', 'ARM1.series', 'ARM2.series', 'ARP3.series', 'ARTU.series', 'ASC1.series', 'ASHM.series', 'ASHV.series', 'ASKY.series', 'ASPA.series', 'ATL1.series', 'ATLI.series', 'ATW2.series', 'ATWC.series', 'AUCK.series', 'AUGL.series', 'AUS5.series', 'AUTF.series', 'AV01.series', 'AV02.series', 'AV06.series', 'AV07.series', 'AV08.series', 'AV09.series', 'AV10.series', 'AV11.series', 'AV12.series', 'AV13.series', 'AV14.series', 'AV15.series', 'AV16.series', 'AV17.series', 'AV18.series', 'AV19.series', 'AV24.series', 'AV25.series', 'AV34.series', 'AV37.series', 'AV38.series', 'AV40.series', 'AVRY.series', 'AZCN.series', 'AZRY.series', 'AZU1.series', 'BACK.series', 'BADG.series', 'BAHR.series', 'BAIE.series', 'BAKE.series', 'BAKO.series', 'BALD.series', 'BAMF.series', 'BAMO.series', 'BAN2.series', 'BAR1.series', 'BARB.series', 'BARH.series', 'BARN.series', 'BATM.series', 'BAY1.series', 'BAY2.series', 'BAYR.series', 'BBDM.series', 'BBID.series', 'BBRY.series', 'BCOV.series', 'BCWR.series', 'BCYI.series', 'BDOS.series', 'BEA2.series', 'BEA5.series', 'BEAT.series', 'BELL.series', 'BEMT.series', 'BENN.series', 'BEPK.series', 'BERP.series', 'BGIS.series', 'BHR1.series', 'BHR2.series', 'BIL1.series', 'BILI.series', 'BILL.series', 'BIS1.series', 'BITI.series', 'BJCO.series', 'BJFS.series', 'BJNM.series', 'BKAP.series', 'BKMS.series', 'BKR1.series', 'BKR2.series', 'BLA1.series', 'BLKV.series', 'BLMM.series', 'BLRW.series', 'BLSA.series', 'BLWY.series', 'BLYN.series', 'BLYT.series', 'BMHL.series', 'BMRY.series', 'BOGI.series', 'BOGO.series', 'BOGT.series', 'BOMG.series', 'BOR1.series', 'BORK.series', 'BRAN.series', 'BRAS.series', 'BRAZ.series', 'BREW.series', 'BRFT.series', 'BRIB.series', 'BRIG.series', 'BRIP.series', 'BRMU.series', 'BRPK.series', 'BRST.series', 'BRU1.series', 'BRUS.series', 'BSAT.series', 'BSHM.series', 'BSMK.series', 'BSNC.series', 'BSRY.series', 'BTDM.series', 'BTHL.series', 'BUCU.series', 'BUDP.series', 'BUE1.series', 'BUE2.series', 'BULL.series', 'BURI.series', 'BURN.series', 'BUST.series', 'BVPP.series', 'BYSP.series', 'BZRG.series', 'CA99.series', 'CABL.series', 'CACT.series', 'CAGL.series', 'CAGS.series', 'CAGZ.series', 'CAME.series', 'CAND.series', 'CANT.series', 'CAPF.series', 'CARH.series', 'CARR.series', 'CAS1.series', 'CASA.series', 'CASC.series', 'CASL.series', 'CASP.series', 'CAST.series', 'CAT1.series', 'CAT2.series', 'CAT3.series', 'CAUQ.series', 'CAVA.series', 'CAYA.series', 'CBHS.series', 'CCCC.series', 'CCCO.series', 'CCCS.series', 'CCJ2.series', 'CCJM.series', 'CCST.series', 'CCV3.series', 'CDMT.series', 'CEBR.series', 'CEDA.series', 'CEDU.series', 'CENA.series', 'CEUT.series', 'CFAG.series', 'CGDM.series', 'CHA1.series', 'CHAB.series', 'CHAN.series', 'CHAT.series', 'CHB1.series', 'CHCM.series', 'CHCN.series', 'CHES.series', 'CHI3.series', 'CHIL.series', 'CHIZ.series', 'CHL1.series', 'CHLO.series', 'CHME.series', 'CHMS.series', 'CHO1.series', 'CHPI.series', 'CHR1.series', 'CHT1.series', 'CHTI.series', 'CHUD.series', 'CHUM.series', 'CHUR.series', 'CHWK.series', 'CHZZ.series', 'CIC1.series', 'CICE.series', 'CIRX.series', 'CIT1.series', 'CJMS.series', 'CJTR.series', 'CKIS.series', 'CLAR.series', 'CLBD.series', 'CLGO.series', 'CLK1.series', 'CLOV.series', 'CLRK.series', 'CLRS.series', 'CMBB.series', 'CME1.series', 'CMOD.series', 'CMP9.series', 'CN11.series', 'CN12.series', 'CN40.series', 'CNCL.series', 'CNDR.series', 'CNMR.series', 'CNPP.series', 'CNWM.series', 'COCO.series', 'COLA.series', 'COLB.series', 'CONO.series', 'CONT.series', 'COON.series', 'COPO.series', 'COPR.series', 'CORB.series', 'CORC.series', 'CORD.series', 'CORV.series', 'CORX.series', 'COSA.series', 'COSO.series', 'COT1.series', 'COTD.series', 'COUP.series', 'COVX.series', 'COYQ.series', 'CPBN.series', 'CPXF.series', 'CPXX.series', 'CRAM.series', 'CRAO.series', 'CRAR.series', 'CRAT.series', 'CRBT.series', 'CREU.series', 'CRFP.series', 'CRHS.series', 'CRO1.series', 'CRRL.series', 'CRRS.series', 'CRU1.series', 'CSAR.series', 'CSCI.series', 'CSDH.series', 'CSN1.series', 'CSST.series', 'CTDM.series', 'CTMS.series', 'CUHS.series', 'CUSV.series', 'CVHS.series', 'CVMS.series', 'CVO1.series', 'DAKA.series', 'DAM1.series', 'DAM2.series', 'DAM3.series', 'DANE.series', 'DARR.series', 'DARW.series', 'DAV1.series', 'DAVR.series', 'DCUT.series', 'DDMN.series', 'DDSN.series', 'DEAR.series', 'DECH.series', 'DEFI.series', 'DENT.series', 'DESC.series', 'DET1.series', 'DEVI.series', 'DGAR.series', 'DGAV.series', 'DGJG.series', 'DHLG.series', 'DIAB.series', 'DKSG.series', 'DLFT.series', 'DLUZ.series', 'DNRC.series', 'DNVK.series', 'DOAR.series', 'DOND.series', 'DOUR.series', 'DQUA.series', 'DRAG.series', 'DRAO.series', 'DREJ.series', 'DRES.series', 'DRV1.series', 'DRV5.series', 'DSEA.series', 'DSHS.series', 'DSME.series', 'DSRC.series', 'DSSC.series', 'DUAO.series', 'DUBO.series', 'DUBR.series', 'DUCK.series', 'DUM1.series', 'DUND.series', 'DUNT.series', 'DUPT.series', 'DVLE.series', 'DVLS.series', 'DVLW.series', 'DVNE.series', 'DVNW.series', 'DVPB.series', 'DVSE.series', 'DVSW.series', 'DWH1.series', 'DYER.series', 'DYHS.series', 'EBRE.series', 'ECCO.series', 'ECFS.series', 'ECHO.series', 'ECSD.series', 'EDOC.series', 'EDPP.series', 'EGAN.series', 'EIL1.series', 'EIL2.series', 'EISL.series', 'EKY1.series', 'ELAT.series', 'ELEN.series', 'ELIZ.series', 'ELKO.series', 'ELRO.series', 'ELSC.series', 'ELSR.series', 'ENG1.series', 'EOUT.series', 'EPRT.series', 'ERLA.series', 'ESCO.series', 'ESCU.series', 'ESE2.series', 'ESRW.series', 'ESTI.series', 'EURK.series', 'EUSK.series', 'EWPP.series', 'FAA1.series', 'FAIR.series', 'FALE.series', 'FALK.series', 'FALL.series', 'FARB.series', 'FAYR.series', 'FBYN.series', 'FDTC.series', 'FEI1.series', 'FERN.series', 'FFMJ.series', 'FGST.series', 'FHFF.series', 'FHOG.series', 'FIE0.series', 'FLIN.series', 'FMC1.series', 'FMC2.series', 'FMTP.series', 'FMVT.series', 'FONP.series', 'FOOT.series', 'FORE.series', 'FORT.series', 'FRDN.series', 'FRED.series', 'FREE.series', 'FREO.series', 'FST1.series', 'FTS1.series', 'FUNC.series', 'FVPK.series', 'FXHS.series', 'FZHS.series', 'G101.series', 'G102.series', 'G103.series', 'G104.series', 'G105.series', 'G106.series', 'G107.series', 'G108.series', 'G109.series', 'G110.series', 'G111.series', 'G112.series', 'G113.series', 'G114.series', 'G115.series', 'G116.series', 'G117.series', 'G118.series', 'G119.series', 'G120.series', 'G121.series', 'G122.series', 'G123.series', 'G124.series', 'G201.series', 'G202.series', 'G203.series', 'G204.series', 'G205.series', 'G206.series', 'G207.series', 'G208.series', 'G209.series', 'G210.series', 'G211.series', 'G212.series', 'G213.series', 'GABB.series', 'GAIT.series', 'GAL1.series', 'GALA.series', 'GALB.series', 'GANP.series', 'GARL.series', 'GDAC.series', 'GDEC.series', 'GENO.series', 'GHRP.series', 'GILB.series', 'GISB.series', 'GLDR.series', 'GLPS.series', 'GLPT.series', 'GLRS.series', 'GLSV.series', 'GMAS.series', 'GMMA.series', 'GMPK.series', 'GMRC.series', 'GMSD.series', 'GNAA.series', 'GNPS.series', 'GOBS.series', 'GODE.series', 'GODN.series', 'GODS.series', 'GODZ.series', 'GOGA.series', 'GOL2.series', 'GOLD.series', 'GOPE.series', 'GOSH.series', 'GOUG.series', 'GR8R.series', 'GRAR.series', 'GRAS.series', 'GRAZ.series', 'GRMD.series', 'GRNR.series', 'GRRG.series', 'GTRG.series', 'GUAM.series', 'GUAO.series', 'GUAX.series', 'GUS1.series', 'GUS2.series', 'GUST.series', 'GUUG.series', 'GVLT.series', 'GVRS.series', 'GWEN.series', 'HAG2.series', 'HALY.series', 'HAMM.series', 'HARB.series', 'HARK.series', 'HARV.series', 'HAST.series', 'HAV2.series', 'HBCO.series', 'HBRK.series', 'HCES.series', 'HCMN.series', 'HCRO.series', 'HDF1.series', 'HDIL.series', 'HDPW.series', 'HEBE.series', 'HELG.series', 'HELJ.series', 'HELL.series', 'HERS.series', 'HERT.series', 'HFLK.series', 'HILB.series', 'HILO.series', 'HIPT.series', 'HIVI.series', 'HKLO.series', 'HLFX.series', 'HLID.series', 'HMBG.series', 'HNLC.series', 'HNPS.series', 'HNPT.series', 'HNUS.series', 'HOB2.series', 'HOBU.series', 'HOFN.series', 'HOGS.series', 'HOKI.series', 'HOL3.series', 'HOLB.series', 'HOLC.series', 'HOLM.series', 'HOLP.series', 'HOPB.series', 'HORN.series', 'HOTK.series', 'HOUS.series', 'HOWE.series', 'HRAO.series', 'HRM1.series', 'HRM2.series', 'HRMN.series', 'HRN1.series', 'HRST.series', 'HTV1.series', 'HUEG.series', 'HUGO.series', 'HUNT.series', 'HURR.series', 'HUSB.series', 'HVLK.series', 'HVWY.series', 'HVYS.series', 'HW62.series', 'HWUT.series', 'HYDE.series', 'I40A.series', 'IBEX.series', 'ICIG.series', 'IENG.series', 'IFR1.series', 'IFRN.series', 'IID2.series', 'IISC.series', 'IMPS.series', 'IND1.series', 'INEG.series', 'INVK.series', 'IQAL.series', 'IQQE.series', 'IRKJ.series', 'IRKM.series', 'IRKT.series', 'ISBA.series', 'ISCO.series', 'ISLK.series', 'ISPA.series', 'ISTA.series', 'IUCO.series', 'IVCO.series', 'JAB1.series', 'JAMA.series', 'JCT1.series', 'JCUZ.series', 'JFWS.series', 'JMEL.series', 'JOEN.series', 'JOHN.series', 'JOKA.series', 'JOZ2.series', 'JOZE.series', 'JPLM.series', 'JRO1.series', 'JSLM.series', 'JTNT.series', 'KABR.series', 'KAGZ.series', 'KAMO.series', 'KAN1.series', 'KARA.series', 'KARL.series', 'KARR.series', 'KATO.series', 'KATZ.series', 'KAYO.series', 'KAYT.series', 'KBRC.series', 'KBUG.series', 'KELS.series', 'KELY.series', 'KEN1.series', 'KERG.series', 'KEW1.series', 'KGN0.series', 'KGNI.series', 'KHAJ.series', 'KHAR.series', 'KIR0.series', 'KIRI.series', 'KIRU.series', 'KIT3.series', 'KJUN.series', 'KLHV.series', 'KLOP.series', 'KLPD.series', 'KNGS.series', 'KNOL.series', 'KOD1.series', 'KOD5.series', 'KOD6.series', 'KODK.series', 'KOK1.series', 'KOKB.series', 'KOKV.series', 'KOSG.series', 'KOU1.series', 'KOUC.series', 'KOUR.series', 'KR0G.series', 'KRAC.series', 'KSNB.series', 'KSTU.series', 'KSU1.series', 'KTBW.series', 'KUAQ.series', 'KULU.series', 'KUMT.series', 'KUNM.series', 'KUUJ.series', 'KVTX.series', 'KWJ1.series', 'KYVW.series', 'KYW1.series', 'KYW2.series', 'LACR.series', 'LAE1.series', 'LAFE.series', 'LAGO.series', 'LAMA.series', 'LAMP.series', 'LAMT.series', 'LAND.series', 'LANS.series', 'LAPC.series', 'LASC.series', 'LAUG.series', 'LAUT.series', 'LBC1.series', 'LBC2.series', 'LBCH.series', 'LBIB.series', 'LCDT.series', 'LCK2.series', 'LCKI.series', 'LDBT.series', 'LDES.series', 'LDSW.series', 'LEBA.series', 'LEEP.series', 'LEIJ.series', 'LEV1.series', 'LEWI.series', 'LEWK.series', 'LFRS.series', 'LGWD.series', 'LHAS.series', 'LHAV.series', 'LHAZ.series', 'LHCL.series', 'LHUE.series', 'LICE.series', 'LINC.series', 'LIND.series', 'LINH.series', 'LINJ.series', 'LINZ.series', 'LITT.series', 'LJRN.series', 'LKCP.series', 'LKHU.series', 'LKTH.series', 'LKWY.series', 'LL01.series', 'LLAS.series', 'LLIV.series', 'LLRG.series', 'LMHS.series', 'LMMF.series', 'LMNL.series', 'LMNO.series', 'LMUT.series', 'LNC1.series', 'LNC2.series', 'LNCO.series', 'LNGB.series', 'LNMT.series', 'LONG.series', 'LORS.series', 'LOU1.series', 'LOWS.series', 'LOZ1.series', 'LPAL.series', 'LPCG.series', 'LPGS.series', 'LPHS.series', 'LROC.series', 'LSIG.series', 'LTHM.series', 'LTUT.series', 'LUBB.series', 'LUTZ.series', 'LVMS.series', 'LVWD.series', 'LYNS.series', 'LYTT.series', 'MAC1.series', 'MACC.series', 'MAD2.series', 'MADR.series', 'MAG0.series', 'MAIR.series', 'MAJB.series', 'MAJU.series', 'MAL2.series', 'MALD.series', 'MALI.series', 'MALL.series', 'MANA.series', 'MANZ.series', 'MAR6.series', 'MARG.series', 'MARS.series', 'MAS1.series', 'MAST.series', 'MASW.series', 'MAT1.series', 'MAT2.series', 'MATE.series', 'MATH.series', 'MAUA.series', 'MAUI.series', 'MAW1.series', 'MAWY.series', 'MAYZ.series', 'MBAR.series', 'MBWW.series', 'MC01.series', 'MCAR.series', 'MCD1.series', 'MCES.series', 'MCHN.series', 'MCIL.series', 'MCM4.series', 'MCN1.series', 'MCON.series', 'MCSO.series', 'MCTY.series', 'MDMT.series', 'MDO1.series', 'MDVJ.series', 'MDVO.series', 'MEDI.series', 'MEE1.series', 'MEE2.series', 'MEM2.series', 'MERC.series', 'MERS.series', 'METR.series', 'METS.series', 'METZ.series', 'MFKG.series', 'MFP0.series', 'MFTN.series', 'MFTS.series', 'MFTW.series', 'MGUE.series', 'MHCB.series', 'MHDL.series', 'MHMS.series', 'MIA1.series', 'MIA3.series', 'MIDA.series', 'MIG1.series', 'MIK2.series', 'MIKL.series', 'MIL1.series', 'MINE.series', 'MINS.series', 'MIPR.series', 'MJPK.series', 'MKEA.series', 'MLF1.series', 'MLFP.series', 'MMAU.series', 'MNMC.series', 'MNP1.series', 'MNRC.series', 'MOB1.series', 'MOBJ.series', 'MOBK.series', 'MOBN.series', 'MOBS.series', 'MODB.series', 'MOIL.series', 'MOLA.series', 'MONB.series', 'MONI.series', 'MONP.series', 'MOPI.series', 'MOPR.series', 'MOR1.series', 'MORP.series', 'MOUT.series', 'MPLA.series', 'MPLE.series', 'MPUT.series', 'MPWD.series', 'MQZG.series', 'MR6G.series', 'MRDM.series', 'MRRN.series', 'MSAI.series', 'MSCG.series', 'MSOB.series', 'MSSC.series', 'MSVG.series', 'MTA1.series', 'MTBG.series', 'MTJO.series', 'MTKA.series', 'MULN.series', 'MUSB.series', 'MUSD.series', 'MVFD.series', 'MWTP.series', 'MYT2.series', 'NAGA.series', 'NAIN.series', 'NAIU.series', 'NANO.series', 'NAUR.series', 'NBPS.series', 'NBR2.series', 'NDAP.series', 'NDBC.series', 'NDS1.series', 'NDSK.series', 'NEAH.series', 'NEB3.series', 'NEIA.series', 'NETP.series', 'NEVA.series', 'NEWL.series', 'NEWP.series', 'NEWS.series', 'NFLN.series', 'NHRG.series', 'NICO.series', 'NIHU.series', 'NIST.series', 'NISU.series', 'NIUM.series', 'NJI2.series', 'NJIT.series', 'NKLG.series', 'NLGN.series', 'NLIB.series', 'NNOR.series', 'NOCO.series', 'NOMT.series', 'NOPE.series', 'NOPK.series', 'NOR1.series', 'NOR2.series', 'NOR3.series', 'NOT1.series', 'NOTO.series', 'NOUM.series', 'NOVA.series', 'NOVJ.series']\n"
     ]
    }
   ],
   "source": [
    "filenames = ftp.nlst() # get filenames within the directory\n",
    "print filenames"
   ]
  },
  {
   "cell_type": "code",
   "execution_count": 30,
   "metadata": {
    "collapsed": false
   },
   "outputs": [
    {
     "data": {
      "text/plain": [
       "True"
      ]
     },
     "execution_count": 30,
     "metadata": {},
     "output_type": "execute_result"
    }
   ],
   "source": [
    "def complete_data_downloaded(web_list, datadir):\n",
    "    '''\n",
    "    Function to check if all the files are downloaded. \n",
    "    It was implemented as the connection to the Nasa server\n",
    "    gets timeout and drops many times.\n",
    "    \n",
    "    Input: \n",
    "        web_list: list containing the files that need to downloaded\n",
    "        datadir: the directory where files are being downloaded\n",
    "        \n",
    "    Output: Boolean indicating if download is complete\n",
    "    '''\n",
    "    \n",
    "#     http://stackoverflow.com/questions/11697709/comparing-two-lists-in-python\n",
    "    file_list = os.listdir(datadir)\n",
    "    common_files = list(set(file_list) & set(filenames))    \n",
    "    if  len(common_files)== len(web_list):\n",
    "        return True\n",
    "    else:\n",
    "        print(\"Missing \" + str(len(web_list) - len(common_files)) + \" files\")\n",
    "        return False\n",
    "    \n",
    "complete_data_downloaded(filenames, datadir)"
   ]
  },
  {
   "cell_type": "code",
   "execution_count": 31,
   "metadata": {
    "collapsed": false
   },
   "outputs": [
    {
     "data": {
      "text/plain": [
       "'221 Goodbye.'"
      ]
     },
     "execution_count": 31,
     "metadata": {},
     "output_type": "execute_result"
    }
   ],
   "source": [
    "connect_count = 0\n",
    "while not complete_data_downloaded(filenames, datadir):\n",
    "    try:\n",
    "        for filename in filenames:\n",
    "            local_filename = os.path.join(datadir, filename)\n",
    "            if not os.path.exists(local_filename):\n",
    "                print(\"Writing to: \"+ local_filename)\n",
    "                file = open(local_filename, 'wb')\n",
    "                ftp.retrbinary('RETR '+ filename, file.write)\n",
    "\n",
    "                file.close() \n",
    "            else:\n",
    "                print(local_filename+\" exists\")\n",
    "    except:\n",
    "        ftp = connect()\n",
    "        ftp.cwd('pub/usrs/mbh/point') \n",
    "        connect_count +=1\n",
    "\n",
    "ftp.quit()"
   ]
  },
  {
   "cell_type": "code",
   "execution_count": null,
   "metadata": {
    "collapsed": false
   },
   "outputs": [],
   "source": []
  },
  {
   "cell_type": "code",
   "execution_count": null,
   "metadata": {
    "collapsed": false
   },
   "outputs": [],
   "source": []
  },
  {
   "cell_type": "markdown",
   "metadata": {},
   "source": [
    "## Understand structure of JPL dataset and clean if needed\n",
    "\n",
    "Source: http://sideshow.jpl.nasa.gov/post/tables/GPS_Time_Series.pdf\n",
    "\n",
    "Time Series and Residual Format  \n",
    "Column 1: Decimal_YR  \n",
    "Columns 2-4: East(m) North(m) Vert(m)  \n",
    "Columns 5-7: E_sig(m) N_sig(m) V_sig(m)  \n",
    "Columns 8-10: E_N_cor, E_V_cor, N_V_cor  \n",
    "Column 11: Time in Seconds past J2000  \n",
    "Columns 12-17: Time in YEAR MM DD HR MN S"
   ]
  },
  {
   "cell_type": "code",
   "execution_count": 9,
   "metadata": {
    "collapsed": false
   },
   "outputs": [
    {
     "data": {
      "text/plain": [
       "'/media/hru/Data/_Active_Projects/PythonRDAHMM/test\\\\RDAHMM\\\\Download/JPL'"
      ]
     },
     "execution_count": 9,
     "metadata": {},
     "output_type": "execute_result"
    }
   ],
   "source": [
    "path_raw_data_jpl = os.path.join(properties('download_path'), 'JPL')\n",
    "path_raw_data_jpl"
   ]
  },
  {
   "cell_type": "code",
   "execution_count": 10,
   "metadata": {
    "collapsed": true
   },
   "outputs": [],
   "source": [
    "import pandas as pd"
   ]
  },
  {
   "cell_type": "code",
   "execution_count": 11,
   "metadata": {
    "collapsed": false
   },
   "outputs": [
    {
     "ename": "WindowsError",
     "evalue": "[Error 3] The system cannot find the path specified: '/media/hru/Data/_Active_Projects/PythonRDAHMM/test\\\\RDAHMM\\\\Download/JPL/*.*'",
     "output_type": "error",
     "traceback": [
      "\u001b[1;31m\u001b[0m",
      "\u001b[1;31mWindowsError\u001b[0mTraceback (most recent call last)",
      "\u001b[1;32m<ipython-input-11-d94d1b3fc253>\u001b[0m in \u001b[0;36m<module>\u001b[1;34m()\u001b[0m\n\u001b[0;32m      2\u001b[0m \u001b[0mempyt_data_stations\u001b[0m \u001b[1;33m=\u001b[0m \u001b[1;33m[\u001b[0m\u001b[1;33m]\u001b[0m\u001b[1;33m\u001b[0m\u001b[0m\n\u001b[0;32m      3\u001b[0m \u001b[1;33m\u001b[0m\u001b[0m\n\u001b[1;32m----> 4\u001b[1;33m \u001b[1;32mfor\u001b[0m \u001b[0mseries\u001b[0m \u001b[1;32min\u001b[0m \u001b[0mos\u001b[0m\u001b[1;33m.\u001b[0m\u001b[0mlistdir\u001b[0m\u001b[1;33m(\u001b[0m\u001b[0mpath_raw_data_jpl\u001b[0m\u001b[1;33m)\u001b[0m\u001b[1;33m:\u001b[0m\u001b[1;33m\u001b[0m\u001b[0m\n\u001b[0m\u001b[0;32m      5\u001b[0m \u001b[1;31m#     df = pd.read_table(os.path.join(path_raw_data_jpl,series), \\\u001b[0m\u001b[1;33m\u001b[0m\u001b[1;33m\u001b[0m\u001b[0m\n\u001b[0;32m      6\u001b[0m \u001b[1;31m#                        sep='         ', header=None, engine='python')\u001b[0m\u001b[1;33m\u001b[0m\u001b[1;33m\u001b[0m\u001b[0m\n",
      "\u001b[1;31mWindowsError\u001b[0m: [Error 3] The system cannot find the path specified: '/media/hru/Data/_Active_Projects/PythonRDAHMM/test\\\\RDAHMM\\\\Download/JPL/*.*'"
     ]
    }
   ],
   "source": [
    "count = 0;\n",
    "empyt_data_stations = []\n",
    "\n",
    "for series in os.listdir(path_raw_data_jpl):\n",
    "#     df = pd.read_table(os.path.join(path_raw_data_jpl,series), \\\n",
    "#                        sep='         ', header=None, engine='python')\n",
    "    if series != 'README':\n",
    "        with open(os.path.join(path_raw_data_jpl,series)) as stations_file:\n",
    "            data = stations_file.readlines()\n",
    "\n",
    "            for idx, row in enumerate(data):\n",
    "                data[idx] = string.split(data[idx])\n",
    "\n",
    "            df = pd.DataFrame(data)\n",
    "\n",
    "            if df.isnull().sum().sum() or len(df.columns) != 17:\n",
    "                empyt_data_stations.append(series)\n",
    "\n",
    "            count+=1\n",
    "#     if count ==0:\n",
    "#         break\n",
    "\n",
    "        "
   ]
  },
  {
   "cell_type": "code",
   "execution_count": null,
   "metadata": {
    "collapsed": false,
    "scrolled": true
   },
   "outputs": [],
   "source": [
    "print \"No of files read:\", count\n",
    "print \"No of stations with null data: \"\n",
    "for e in empyt_data_stations:\n",
    "    print e"
   ]
  },
  {
   "cell_type": "code",
   "execution_count": null,
   "metadata": {
    "collapsed": true
   },
   "outputs": [],
   "source": []
  },
  {
   "cell_type": "markdown",
   "metadata": {
    "collapsed": false
   },
   "source": [
    "<b> NO NEED TO CLEAN DATA</b>"
   ]
  },
  {
   "cell_type": "code",
   "execution_count": 23,
   "metadata": {
    "collapsed": false
   },
   "outputs": [
    {
     "data": {
      "text/plain": [
       "17"
      ]
     },
     "execution_count": 23,
     "metadata": {},
     "output_type": "execute_result"
    }
   ],
   "source": []
  },
  {
   "cell_type": "code",
   "execution_count": null,
   "metadata": {
    "collapsed": false
   },
   "outputs": [],
   "source": []
  },
  {
   "cell_type": "markdown",
   "metadata": {},
   "source": [
    "## Add JPL to database"
   ]
  },
  {
   "cell_type": "code",
   "execution_count": null,
   "metadata": {
    "collapsed": true
   },
   "outputs": [],
   "source": []
  },
  {
   "cell_type": "code",
   "execution_count": null,
   "metadata": {
    "collapsed": true
   },
   "outputs": [],
   "source": []
  },
  {
   "cell_type": "code",
   "execution_count": null,
   "metadata": {
    "collapsed": true
   },
   "outputs": [],
   "source": []
  },
  {
   "cell_type": "code",
   "execution_count": null,
   "metadata": {
    "collapsed": true
   },
   "outputs": [],
   "source": []
  },
  {
   "cell_type": "code",
   "execution_count": null,
   "metadata": {
    "collapsed": true
   },
   "outputs": [],
   "source": []
  },
  {
   "cell_type": "code",
   "execution_count": null,
   "metadata": {
    "collapsed": true
   },
   "outputs": [],
   "source": []
  },
  {
   "cell_type": "markdown",
   "metadata": {
    "collapsed": false
   },
   "source": [
    "# Train model\n",
    "But as training model was available on gf9 I used that, since training the model takes 2 weeks."
   ]
  },
  {
   "cell_type": "code",
   "execution_count": 4,
   "metadata": {
    "collapsed": false
   },
   "outputs": [],
   "source": [
    "argv1 = \"WNAM_Clean_DetrendNeuTimeSeries_comb\"\n",
    "dataset = argv1"
   ]
  },
  {
   "cell_type": "code",
   "execution_count": 5,
   "metadata": {
    "collapsed": false
   },
   "outputs": [],
   "source": [
    "data_path = properties('data_path') + \"/\" + dataset + \"/\"\n",
    "model_path = properties('model_path') + \"/\" + dataset + \"/\"\n",
    "train_epoch = properties('train_epoch')\n",
    "rdahmm_bin = properties('rdahmm_bin')"
   ]
  },
  {
   "cell_type": "code",
   "execution_count": null,
   "metadata": {
    "collapsed": true
   },
   "outputs": [],
   "source": []
  },
  {
   "cell_type": "code",
   "execution_count": null,
   "metadata": {
    "collapsed": true
   },
   "outputs": [],
   "source": []
  },
  {
   "cell_type": "code",
   "execution_count": null,
   "metadata": {
    "collapsed": true
   },
   "outputs": [],
   "source": []
  },
  {
   "cell_type": "code",
   "execution_count": null,
   "metadata": {
    "collapsed": true
   },
   "outputs": [],
   "source": []
  },
  {
   "cell_type": "code",
   "execution_count": null,
   "metadata": {
    "collapsed": true
   },
   "outputs": [],
   "source": []
  },
  {
   "cell_type": "code",
   "execution_count": null,
   "metadata": {
    "collapsed": true
   },
   "outputs": [],
   "source": []
  },
  {
   "cell_type": "code",
   "execution_count": null,
   "metadata": {
    "collapsed": true
   },
   "outputs": [],
   "source": []
  },
  {
   "cell_type": "markdown",
   "metadata": {
    "collapsed": false
   },
   "source": [
    "# Evaluate model\n",
    "the output is stored in daily_project_stationID_eval-date.Q file in the same directory as the training model"
   ]
  },
  {
   "cell_type": "code",
   "execution_count": 15,
   "metadata": {
    "collapsed": false
   },
   "outputs": [],
   "source": [
    "import sqlite3\n",
    "sqlite_file = '/home/hru/Desktop/my_db.sqlite'\n",
    "conn = sqlite3.connect(sqlite_file)\n",
    "c = conn.cursor()"
   ]
  },
  {
   "cell_type": "code",
   "execution_count": 17,
   "metadata": {
    "collapsed": false
   },
   "outputs": [
    {
     "ename": "OperationalError",
     "evalue": "table StationGPSTimeSeries already exists",
     "output_type": "error",
     "traceback": [
      "\u001b[1;31m---------------------------------------------------------------------------\u001b[0m",
      "\u001b[1;31mOperationalError\u001b[0m                          Traceback (most recent call last)",
      "\u001b[1;32m<ipython-input-17-5802617e5c66>\u001b[0m in \u001b[0;36m<module>\u001b[1;34m()\u001b[0m\n\u001b[0;32m      9\u001b[0m                        \u001b[0mInterploated\u001b[0m \u001b[0mINT\u001b[0m \u001b[0mDefault\u001b[0m \u001b[1;36m0\u001b[0m\u001b[1;33m,\u001b[0m\u001b[1;33m\u001b[0m\u001b[0m\n\u001b[0;32m     10\u001b[0m                        UNIQUE(Timestamp))\"\"\"\n\u001b[1;32m---> 11\u001b[1;33m \u001b[0mconn\u001b[0m\u001b[1;33m.\u001b[0m\u001b[0mexecute\u001b[0m\u001b[1;33m(\u001b[0m\u001b[0mstation_sql\u001b[0m\u001b[1;33m)\u001b[0m\u001b[1;33m\u001b[0m\u001b[0m\n\u001b[0m\u001b[0;32m     12\u001b[0m \u001b[0mconn\u001b[0m\u001b[1;33m.\u001b[0m\u001b[0mcommit\u001b[0m\u001b[1;33m(\u001b[0m\u001b[1;33m)\u001b[0m\u001b[1;33m\u001b[0m\u001b[0m\n",
      "\u001b[1;31mOperationalError\u001b[0m: table StationGPSTimeSeries already exists"
     ]
    }
   ],
   "source": [
    "station_sql = \"\"\"CREATE TABLE StationGPSTimeSeries (\n",
    "                       North Num,\n",
    "                       East Num,\n",
    "                       Up  Num,\n",
    "                       Nsig Num,\n",
    "                       Esig Num, \n",
    "                       Usig Num,\n",
    "                       Timestamp TEXT,\n",
    "                       Interploated INT Default 0,\n",
    "                       UNIQUE(Timestamp))\"\"\"\n",
    "conn.execute(station_sql)\n",
    "conn.commit()"
   ]
  },
  {
   "cell_type": "code",
   "execution_count": 24,
   "metadata": {
    "collapsed": false
   },
   "outputs": [
    {
     "ename": "SyntaxError",
     "evalue": "invalid syntax (<ipython-input-24-18c6534bad09>, line 17)",
     "output_type": "error",
     "traceback": [
      "\u001b[1;36m  File \u001b[1;32m\"<ipython-input-24-18c6534bad09>\"\u001b[1;36m, line \u001b[1;32m17\u001b[0m\n\u001b[1;33m    station_sql = \"INSERT INTO StationGPSTimeSeries (North, East, Up, Nsig, Esig, Usig, Timestamp) \"\u001b[0m\n\u001b[1;37m              ^\u001b[0m\n\u001b[1;31mSyntaxError\u001b[0m\u001b[1;31m:\u001b[0m invalid syntax\n"
     ]
    }
   ],
   "source": [
    "import datetime\n",
    "with open('/media/hru/Data/_Active_Projects/PythonRDAHMM/test/RDAHMM/Download/JPL/7ODM.series', 'r') as f:\n",
    "        data = f.readlines()\n",
    "        station_sql =\"\"\n",
    "        last_line = \"\"\n",
    "        for line in data:\n",
    "            last_record = string.split(line)\n",
    "            #lsts = last_record[1]\n",
    "            least = float(last_record[1])*1000.0\n",
    "            lnorth = float(last_record[2])*1000.0\n",
    "            lup = float(last_record[3])*1000.0\n",
    "            lesig = float(last_record[4])*1000.0\n",
    "            lnsig = float(last_record[5])*1000.0\n",
    "            lusig = float(last_record[6])*1000.0\n",
    "            last_timestamp = datetime.datetime(int(last_record[11]),int(last_record[12]),int(last_record[13])\n",
    "            # if missing days from last to current, fill with last\n",
    "            station_sql = \"INSERT INTO StationGPSTimeSeries (North, East, Up, Nsig, Esig, Usig, Timestamp) \"\n",
    "            station_sql += \" VALUES ('%s', '%s', '%s', '%s', '%s', '%s', '%s', '%s')\" % (lnorth, least, lup, lnsig, lesig, lusig, last_timestamp)\n",
    "            conn.execute(station_sql))\n",
    "        conn.commit()"
   ]
  },
  {
   "cell_type": "code",
   "execution_count": null,
   "metadata": {
    "collapsed": true
   },
   "outputs": [],
   "source": [
    "if last_line == \"\":\n",
    "    last_line = line\n",
    "else:\n",
    "last_record = string.split(last_line)\n",
    "#lsts = last_record[1]\n",
    "least = float(last_record[1])*1000.0\n",
    "lnorth = float(last_record[2])*1000.0\n",
    "lup = float(last_record[3])*1000.0\n",
    "lesig = float(last_record[4])*1000.0\n",
    "lnsig = float(last_record[5])*1000.0\n",
    "lusig = float(last_record[6])*1000.0\n",
    "last_timestamp = datetime.datetime(last_record[11],last_record[12],last_record[13])\n",
    "    # if missing days from last to current, fill with last\n",
    "for i in range(1, (timestamp - last_timestamp).days):\n",
    "    ts = last_timestamp + timedelta(days=i)\n",
    "    interploated = 1\n",
    "    station_sql = \"INSERT INTO StationGPSTimeSeries (North, East, Up, Nsig, Esig, Usig, Timestamp) \"\n",
    "    station_sql += \" VALUES ('%s', '%s', '%s', '%s', '%s', '%s', '%s', '%s')\" % (lnorth, least, lup, lnsig, lesig, lusig, ts)\n",
    "    station_cur.execute(station_sql)\n",
    "last_line = line"
   ]
  }
 ],
 "metadata": {
  "anaconda-cloud": {},
  "kernelspec": {
   "display_name": "Python [Root]",
   "language": "python",
   "name": "Python [Root]"
  },
  "language_info": {
   "codemirror_mode": {
    "name": "ipython",
    "version": 2
   },
   "file_extension": ".py",
   "mimetype": "text/x-python",
   "name": "python",
   "nbconvert_exporter": "python",
   "pygments_lexer": "ipython2",
   "version": "2.7.12"
  }
 },
 "nbformat": 4,
 "nbformat_minor": 0
}
